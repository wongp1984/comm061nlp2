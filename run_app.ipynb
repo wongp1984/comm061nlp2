{
 "cells": [
  {
   "cell_type": "markdown",
   "metadata": {},
   "source": [
    "# Group 12 Coursework "
   ]
  },
  {
   "cell_type": "code",
   "execution_count": 1,
   "metadata": {},
   "outputs": [],
   "source": [
    "import os\n",
    "import datetime\n",
    "import time\n",
    "import json\n",
    "import http.client\n",
    "import requests\n",
    "from html.parser import HTMLParser\n",
    "from html.entities import name2codepoint\n",
    "\n",
    "\n",
    "class MyHTMLParser(HTMLParser):\n",
    "# This is a class for parsing the html returned from the web service endpoint\n",
    "\n",
    "    def __init__(self):\n",
    "        super(MyHTMLParser, self).__init__()\n",
    "        self.emotion_type = None\n",
    "        self.emotion_return = False\n",
    "        \n",
    "    def handle_starttag(self, tag, attrs):\n",
    "        if tag=='h3':\n",
    "            self.emotion_return = True\n",
    "    \n",
    "    def handle_data(self, data):\n",
    "        if self.emotion_return:\n",
    "            self.emotion_type = data.strip()\n",
    "        \n",
    "    def handle_endtag(self, tag):\n",
    "        if tag=='h3':\n",
    "            self.emotion_return = False\n",
    "\n",
    "def deploy_changes(commitmsg):\n",
    "    '''Run git commands to deploy current changes in project folder to Github and deploy to web server'''\n",
    "    \n",
    "    !git add .\n",
    "    !git commit -m commitmsg\n",
    "    !git push origin master\n",
    "    print('Changes were deployed to Github. Please action the CI/CD pipeline running status.')\n",
    "    \n",
    "    "
   ]
  },
  {
   "cell_type": "markdown",
   "metadata": {},
   "source": [
    "### 1. Submit user input for classifying emotion\n",
    "Below cell will read user input text, and then make a HTTP request using POST method to the webservice endpoint deployed locally (http://127.0.0.1:5000) to classify the emotion of the user input text."
   ]
  },
  {
   "cell_type": "code",
   "execution_count": 2,
   "metadata": {},
   "outputs": [
    {
     "name": "stdout",
     "output_type": "stream",
     "text": [
      "Please input your text:  sorry guys\n"
     ]
    }
   ],
   "source": [
    "usertext = input(\"Please input your text:  \")"
   ]
  },
  {
   "cell_type": "code",
   "execution_count": 3,
   "metadata": {},
   "outputs": [
    {
     "name": "stdout",
     "output_type": "stream",
     "text": [
      "The classified emotion type is: disappointment_embarrassment_grief_remorse_sadness\n"
     ]
    }
   ],
   "source": [
    "data = {'input_text': usertext}\n",
    "dbipaddr = '127.0.0.1:5000'\n",
    "\n",
    "response = requests.post('http://' + dbipaddr, data=data)\n",
    "\n",
    "parser = MyHTMLParser()\n",
    "\n",
    "if response.status_code==200:       \n",
    "    parser.feed(response.text)\n",
    "    if parser.emotion_type is not None:\n",
    "        print(f'The classified emotion type is: {parser.emotion_type}')\n",
    "    else:\n",
    "        print(f'No emotion can be classified!')"
   ]
  },
  {
   "cell_type": "markdown",
   "metadata": {},
   "source": [
    "### 2. Apply code changes to CI/CD Pipeline in Github"
   ]
  },
  {
   "cell_type": "markdown",
   "metadata": {},
   "source": [
    "The CI/CD pipeline is setup in Github. The webservice endpoint, which is deployed in a local Ubuntu VM, is self-host runner. A CI/CD listener is running continuously in the VM to listen to code changes in the Github repository. Any new code changes or model file changes pushed to the repository will be downloaded and applied to the webservice endpoint."
   ]
  },
  {
   "cell_type": "code",
   "execution_count": 4,
   "metadata": {},
   "outputs": [
    {
     "name": "stdout",
     "output_type": "stream",
     "text": [
      "On branch master\n",
      "nothing to commit, working tree clean\n",
      "Changes were deployed to Github. Please action the CI/CD pipeline running status.\n"
     ]
    },
    {
     "name": "stderr",
     "output_type": "stream",
     "text": [
      "Everything up-to-date\n"
     ]
    }
   ],
   "source": [
    "deploy_changes(\"updated run_app.ipynb to include the performance test.\")"
   ]
  },
  {
   "cell_type": "markdown",
   "metadata": {},
   "source": [
    "### 3. Get log entry from web server for monitoring"
   ]
  },
  {
   "cell_type": "markdown",
   "metadata": {},
   "source": [
    "The webservice endpoint will record the user submitted text, the classification result as well as the time taken to run the classification task in the web server. Below cell requests the web server to retrieve the last 7 days logs and parsed it as simple tabular data output."
   ]
  },
  {
   "cell_type": "code",
   "execution_count": 5,
   "metadata": {},
   "outputs": [
    {
     "name": "stdout",
     "output_type": "stream",
     "text": [
      "input_run_time,input_text,end_run_time,result\n",
      "'2023-05-21 20:48:25.736870','sorry guys','2023-05-21 20:48:25.944417','disappointment_embarrassment_grief_remorse_sadness'\n",
      "'2023-05-21 20:48:44.845683','sorry guys','2023-05-21 20:48:44.993890','disappointment_embarrassment_grief_remorse_sadness'\n",
      "\n"
     ]
    }
   ],
   "source": [
    "response = requests.get('http://' + dbipaddr + '/getlog')\n",
    "\n",
    "# parser = MyHTMLParser()\n",
    "\n",
    "if response.status_code==200:\n",
    "    lines = response.text.split('</p>')\n",
    "    for l in lines:    \n",
    "        print(l[3:])\n",
    " "
   ]
  },
  {
   "cell_type": "markdown",
   "metadata": {},
   "source": [
    "### 4. Performance test"
   ]
  },
  {
   "cell_type": "code",
   "execution_count": 6,
   "metadata": {},
   "outputs": [],
   "source": [
    "#performance test script\n",
    "import requests\n",
    "from concurrent.futures import ThreadPoolExecutor"
   ]
  },
  {
   "cell_type": "code",
   "execution_count": 7,
   "metadata": {},
   "outputs": [
    {
     "name": "stdout",
     "output_type": "stream",
     "text": [
      "<Response [200]>\n",
      "<html>\n",
      "    <body>\n",
      "        \n",
      "          <p> \n",
      "            <h1 style=\"font-size:1.2em\">\n",
      "               Input text for classification is below:\n",
      "            </h1>\n",
      "         </p>\n",
      "          <p style=\"color:blue\">The king is good </p>\n",
      "          <p> \n",
      "            <h2 style=\"font-size:1.2em\">\n",
      "               The predicted emotion is below.\n",
      "            </h2>\n",
      "         </p>\n",
      "          <p>\n",
      "            <h3 style=\"color:red\">\n",
      "               admiration \n",
      "            </h3>\n",
      "         </p>\n",
      "        \n",
      "        input the text\n",
      "        <form action = \"./\" method = \"POST\" enctype = \"multipart/form-data\">\n",
      "           <input type=\"text\" name=\"input_text\" size=\"200\" value=\"input the text\"></p>\n",
      "           <input type = \"submit\"/>\n",
      "        </form>\n",
      "     </body>\n",
      "</html>\n",
      "time_elapsed: 2.144029\n"
     ]
    }
   ],
   "source": [
    "# send the single request\n",
    "url = 'http://localhost:5000'\n",
    "res = requests.get(url)\n",
    "\n",
    "data = \"input_text=The king is good\"\n",
    "headers = {'Content-Type': 'application/x-www-form-urlencoded'}\n",
    "\n",
    "res = requests.post(url=url, data=data, headers=headers)\n",
    "time_elapsed = res.elapsed.total_seconds()\n",
    "\n",
    "print(res)\n",
    "print(f\"{res.text}\")\n",
    "print('time_elapsed:', time_elapsed)"
   ]
  },
  {
   "cell_type": "code",
   "execution_count": 8,
   "metadata": {},
   "outputs": [],
   "source": [
    "# make the text with arbitrary length\n",
    "def makeText(n):\n",
    "    message=\"The king is good. \"   \n",
    "    text = [message[i % len(message)] for i in range(n)]\n",
    "    return \"input_text=\"+''.join(text)"
   ]
  },
  {
   "cell_type": "code",
   "execution_count": 9,
   "metadata": {},
   "outputs": [
    {
     "name": "stdout",
     "output_type": "stream",
     "text": [
      "input_text=The king is good. The king is \n",
      "input_text=The king is good. The king is good. The king is good. The ki\n"
     ]
    }
   ],
   "source": [
    "print(makeText(30))\n",
    "print(makeText(60))"
   ]
  },
  {
   "cell_type": "code",
   "execution_count": 12,
   "metadata": {},
   "outputs": [],
   "source": [
    "# Define the function for POST message\n",
    "def getEmotion(id,message):\n",
    "    #print(\"id:\",str(id))\n",
    "    try:\n",
    "        url = 'http://localhost:5000'\n",
    "        res = requests.get(url)\n",
    "        headers = {'Content-Type': 'application/x-www-form-urlencoded'}\n",
    "        res = requests.post(url=url, data=message, headers=headers,timeout=300)\n",
    "    except IOError:\n",
    "        print(\"Failed to open\",host)\n",
    "    return res.elapsed.total_seconds()"
   ]
  },
  {
   "cell_type": "code",
   "execution_count": null,
   "metadata": {},
   "outputs": [],
   "source": [
    "concurrent_num = [1,10,50,100] #\n",
    "text_length = [10,100,300,500,1000]\n",
    "elapsed_times=[[0]*len(text_length) for i in range(len(concurrent_num))]\n",
    "\n",
    "for i in concurrent_num:\n",
    "    for j in text_length:\n",
    "        runs=[value for value in range(i)]\n",
    "        message = makeText(j)\n",
    "        message = [message]*i\n",
    "        with ThreadPoolExecutor(max_workers=i) as executor:\n",
    "            results = executor.map(getEmotion,runs,message)\n",
    "        elapsed_time = []\n",
    "        for result in results:\n",
    "            elapsed_time.append(result)\n",
    "        #print(\"concurrent_num: \"+str(i)+\", text_length: \"+str(j))\n",
    "        #print(\"concurrent_num: \"+str(concurrent_num.index(i))+\", text_length: \"+str(text_length.index(j)))\n",
    "        #print(elapsed_time)\n",
    "        elapsed_times[concurrent_num.index(i)][text_length.index(j)]=sum(elapsed_time)/len(elapsed_time)"
   ]
  },
  {
   "cell_type": "code",
   "execution_count": null,
   "metadata": {},
   "outputs": [],
   "source": [
    "import matplotlib.pyplot as plt\n",
    "\n",
    "plt.xlabel(\"concurrent_num\", fontsize=16)\n",
    "plt.ylabel(\"elapsed_time\", fontsize=16)\n",
    "plt.grid(True)\n",
    "plt.tick_params(labelsize = 12) \n",
    "plt.plot(concurrent_num, [row[0] for row in elapsed_times], label=\"text_length=10\")\n",
    "plt.plot(concurrent_num, [row[1] for row in elapsed_times], label=\"text_length=100\")\n",
    "plt.plot(concurrent_num, [row[2] for row in elapsed_times], label=\"text_length=300\")\n",
    "plt.plot(concurrent_num, [row[3] for row in elapsed_times], label=\"text_length=500\")\n",
    "plt.plot(concurrent_num, [row[4] for row in elapsed_times], label=\"text_length=1000\")\n",
    "plt.legend(fontsize=12)\n",
    "plt.show()"
   ]
  },
  {
   "cell_type": "code",
   "execution_count": null,
   "metadata": {},
   "outputs": [],
   "source": [
    "# Many concurrent number causes error\n",
    "# This is because the server has received so many requests that it cannot process them all, \n",
    "# Therefore, requests won't receive a response.\n",
    "concurrent_num = 500\n",
    "text_length = 100\n",
    "\n",
    "runs=[value for value in range(concurrent_num)]\n",
    "message = makeText(text_length)\n",
    "message = [message]*concurrent_num\n",
    "\n",
    "with ThreadPoolExecutor(max_workers=concurrent_num) as executor:\n",
    "    results = executor.map(getEmotion,runs,message)"
   ]
  },
  {
   "cell_type": "code",
   "execution_count": null,
   "metadata": {},
   "outputs": [],
   "source": [
    "elapsed_times = []\n",
    "for result in results:\n",
    "    elapsed_times.append(result)\n",
    "    #print(result.elapsed.total_seconds())\n",
    "print(len(elapsed_times))\n",
    "print(sum(elapsed_times)/len(elapsed_times))"
   ]
  },
  {
   "cell_type": "code",
   "execution_count": null,
   "metadata": {},
   "outputs": [],
   "source": []
  },
  {
   "cell_type": "code",
   "execution_count": null,
   "metadata": {},
   "outputs": [],
   "source": []
  }
 ],
 "metadata": {
  "kernelspec": {
   "display_name": "Python 3 (ipykernel)",
   "language": "python",
   "name": "python3"
  },
  "language_info": {
   "codemirror_mode": {
    "name": "ipython",
    "version": 3
   },
   "file_extension": ".py",
   "mimetype": "text/x-python",
   "name": "python",
   "nbconvert_exporter": "python",
   "pygments_lexer": "ipython3",
   "version": "3.10.9"
  }
 },
 "nbformat": 4,
 "nbformat_minor": 2
}
