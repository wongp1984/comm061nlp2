{
 "cells": [
  {
   "attachments": {},
   "cell_type": "markdown",
   "metadata": {},
   "source": [
    "# Group 12 Coursework "
   ]
  },
  {
   "cell_type": "code",
   "execution_count": 1,
   "metadata": {},
   "outputs": [],
   "source": [
    "import os\n",
    "import datetime\n",
    "import time\n",
    "import json\n",
    "import http.client\n",
    "import requests\n",
    "from html.parser import HTMLParser\n",
    "from html.entities import name2codepoint\n",
    "\n",
    "\n",
    "class MyHTMLParser(HTMLParser):\n",
    "# This is a class for parsing the html returned from the web service endpoint\n",
    "\n",
    "    def __init__(self):\n",
    "        super(MyHTMLParser, self).__init__()\n",
    "        self.emotion_type = None\n",
    "        self.emotion_return = False\n",
    "        \n",
    "    def handle_starttag(self, tag, attrs):\n",
    "        if tag=='h3':\n",
    "            self.emotion_return = True\n",
    "    \n",
    "    def handle_data(self, data):\n",
    "        if self.emotion_return:\n",
    "            self.emotion_type = data.strip()\n",
    "        \n",
    "    def handle_endtag(self, tag):\n",
    "        if tag=='h3':\n",
    "            self.emotion_return = False\n",
    "\n",
    "def deploy_changes(commitmsg):\n",
    "    '''Run git commands to deploy current changes in project folder to Github and deploy to web server'''\n",
    "    \n",
    "    !git add .\n",
    "    !git commit -m commitmsg\n",
    "    !git push origin master\n",
    "    print('Changes were deployed to Github. Please action the CI/CD pipeline running status.')\n",
    "    \n",
    "    "
   ]
  },
  {
   "attachments": {},
   "cell_type": "markdown",
   "metadata": {},
   "source": [
    "### 1. Submit user input for classifying emotion\n",
    "Below cell will read user input text, and then make a HTTP request using POST method to the webservice endpoint deployed locally (http://127.0.0.1:5000) to classify the emotion of the user input text."
   ]
  },
  {
   "cell_type": "code",
   "execution_count": 2,
   "metadata": {},
   "outputs": [
    {
     "name": "stdout",
     "output_type": "stream",
     "text": [
      "Please input your text:  hello\n"
     ]
    }
   ],
   "source": [
    "usertext = input(\"Please input your text:  \")"
   ]
  },
  {
   "cell_type": "code",
   "execution_count": 7,
   "metadata": {},
   "outputs": [
    {
     "name": "stdout",
     "output_type": "stream",
     "text": [
      "The classified emotion type is: neutral\n"
     ]
    }
   ],
   "source": [
    "data = {'input_text': usertext}\n",
    "dbipaddr = '127.0.0.1:5000'\n",
    "\n",
    "response = requests.post('http://' + dbipaddr, data=data)\n",
    "\n",
    "parser = MyHTMLParser()\n",
    "\n",
    "if response.status_code==200:       \n",
    "    parser.feed(response.text)\n",
    "    if parser.emotion_type is not None:\n",
    "        print(f'The classified emotion type is: {parser.emotion_type}')\n",
    "    else:\n",
    "        print(f'No emotion can be classified!')"
   ]
  },
  {
   "attachments": {},
   "cell_type": "markdown",
   "metadata": {},
   "source": [
    "### 2. Apply code changes to CI/CD Pipeline in Github"
   ]
  },
  {
   "cell_type": "code",
   "execution_count": 9,
   "metadata": {},
   "outputs": [
    {
     "name": "stdout",
     "output_type": "stream",
     "text": [
      "[master 951bc2c] commitmsg\n",
      " 1 file changed, 5 insertions(+), 2 deletions(-)\n",
      "Changes were deployed to Github. Please action the CI/CD pipeline running status.\n"
     ]
    },
    {
     "name": "stderr",
     "output_type": "stream",
     "text": [
      "remote: Resolving deltas:   0% (0/2)        \n",
      "remote: Resolving deltas:  50% (1/2)        \n",
      "remote: Resolving deltas: 100% (2/2)        \n",
      "remote: Resolving deltas: 100% (2/2), completed with 2 local objects.        \n",
      "To https://github.com/wongp1984/comm061nlp2.git\n",
      "   6eb5638..951bc2c  master -> master\n"
     ]
    }
   ],
   "source": [
    "deploy_changes(\"updated index.py to return log entry.\")"
   ]
  },
  {
   "attachments": {},
   "cell_type": "markdown",
   "metadata": {},
   "source": [
    "### 3. Get log entry from web server for monitoring"
   ]
  },
  {
   "cell_type": "code",
   "execution_count": 38,
   "metadata": {},
   "outputs": [
    {
     "name": "stdout",
     "output_type": "stream",
     "text": [
      "input_time,input_text,predcition_time,result\n",
      "'2023-05-16 23:02:28.931326', 'hello', '2023-05-16 23:02:29.108702', 'neutral'\n",
      "'2023-05-16 23:32:27.766277','oh my god','2023-05-16 23:32:27.888197','surprise'\n",
      "'2023-05-16 23:32:33.855147','hey how are you','2023-05-16 23:32:33.970676','confusion_curiosity'\n",
      "'2023-05-16 23:32:39.957783','life sucks','2023-05-16 23:32:40.065766','anger_annoyance_disgust'\n",
      "'2023-05-16 23:32:45.938526','life really sucks','2023-05-16 23:32:46.183612','disappointment_embarrassment_grief_remorse_sadness'\n",
      "\n"
     ]
    }
   ],
   "source": [
    "response = requests.get('http://' + dbipaddr + '/getlog')\n",
    "\n",
    "# parser = MyHTMLParser()\n",
    "\n",
    "if response.status_code==200:\n",
    "    lines = response.text.split('</p>')\n",
    "    for l in lines:    \n",
    "        print(l[3:])\n",
    "       \n",
    " "
   ]
  },
  {
   "attachments": {},
   "cell_type": "markdown",
   "metadata": {},
   "source": [
    "### Performance Test"
   ]
  },
  {
   "cell_type": "code",
   "execution_count": null,
   "metadata": {},
   "outputs": [],
   "source": [
    "#performance test script\n",
    "import requests\n",
    "from concurrent.futures import ThreadPoolExecutor\n",
    "\n",
    "import random, string\n",
    "\n",
    "def makeText(n):\n",
    "    message=\"The king is good. \"   \n",
    "    text = [message[i % len(message)] for i in range(n)]\n",
    "    return ''.join(text)"
   ]
  },
  {
   "cell_type": "code",
   "execution_count": null,
   "metadata": {},
   "outputs": [],
   "source": [
    "print(makeText(30))\n",
    "print(makeText(60))"
   ]
  },
  {
   "cell_type": "code",
   "execution_count": null,
   "metadata": {},
   "outputs": [],
   "source": [
    "def getEmotion(id,message):\n",
    "    #print(\"id:\",str(id))\n",
    "    try:\n",
    "        url = 'http://127.0.0.1:5000'\n",
    "        res = requests.get(url)\n",
    "        headers = {'Content-Type': 'application/x-www-form-urlencoded'}\n",
    "        res = requests.post(url=url, data=message, headers=headers)\n",
    "    except IOError:\n",
    "        print(\"Failed to open\",host)\n",
    "    return res.elapsed.total_seconds()"
   ]
  },
  {
   "cell_type": "code",
   "execution_count": null,
   "metadata": {},
   "outputs": [],
   "source": [
    "rrent_num = 10\n",
    "text_num = 100\n",
    "\n",
    "runs=[value for value in range(concurrent_num)]\n",
    "message = makeText(text_num)\n",
    "message = [message]*concurrent_num\n",
    "\n",
    "with ThreadPoolExecutor(max_workers=concurrent_num) as executor:\n",
    "    results = executor.map(getEmotion,runs,message)"
   ]
  },
  {
   "cell_type": "code",
   "execution_count": null,
   "metadata": {},
   "outputs": [],
   "source": [
    "elapsed_times = []\n",
    "for result in results:\n",
    "    elapsed_times.append(result)\n",
    "    #print(result.elapsed.total_seconds())"
   ]
  },
  {
   "cell_type": "code",
   "execution_count": null,
   "metadata": {},
   "outputs": [],
   "source": [
    "print(len(elapsed_times))\n",
    "print(sum(elapsed_times)/len(elapsed_times))"
   ]
  },
  {
   "cell_type": "code",
   "execution_count": null,
   "metadata": {},
   "outputs": [],
   "source": [
    "concurrent_num = 100\n",
    "runs=[value for value in range(concurrent_num)]\n",
    "message = \"input_text=The king is good\"\n",
    "message = [message]*concurrent_num\n",
    "\n",
    "with ThreadPoolExecutor(max_workers=concurrent_num) as executor:\n",
    "    results = executor.map(getEmotion,runs,message)"
   ]
  }
 ],
 "metadata": {
  "kernelspec": {
   "display_name": "Python 3 (ipykernel)",
   "language": "python",
   "name": "python3"
  },
  "language_info": {
   "codemirror_mode": {
    "name": "ipython",
    "version": 3
   },
   "file_extension": ".py",
   "mimetype": "text/x-python",
   "name": "python",
   "nbconvert_exporter": "python",
   "pygments_lexer": "ipython3",
   "version": "3.10.9"
  }
 },
 "nbformat": 4,
 "nbformat_minor": 2
}
