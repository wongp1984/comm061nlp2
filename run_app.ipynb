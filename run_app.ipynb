{
 "cells": [
  {
   "cell_type": "markdown",
   "metadata": {},
   "source": [
    "## Group 12 Coursework "
   ]
  },
  {
   "cell_type": "code",
   "execution_count": 1,
   "metadata": {},
   "outputs": [],
   "source": [
    "import os\n",
    "import datetime\n",
    "import time\n",
    "import json\n",
    "import http.client\n",
    "import requests\n",
    "from html.parser import HTMLParser\n",
    "from html.entities import name2codepoint\n",
    "\n",
    "# This is a class for parsing the html returned from the web service endpoint\n",
    "class MyHTMLParser(HTMLParser):\n",
    "    \n",
    "    def __init__(self):\n",
    "        super(MyHTMLParser, self).__init__()\n",
    "        self.emotion_type = None\n",
    "        self.emotion_return = False\n",
    "        \n",
    "    def handle_starttag(self, tag, attrs):\n",
    "        if tag=='h3':\n",
    "            self.emotion_return = True\n",
    "    \n",
    "    def handle_data(self, data):\n",
    "        if self.emotion_return:\n",
    "            self.emotion_type = data.strip()\n",
    "        \n",
    "    def handle_endtag(self, tag):\n",
    "        if tag=='h3':\n",
    "            self.emotion_return = False\n",
    "\n"
   ]
  },
  {
   "cell_type": "markdown",
   "metadata": {},
   "source": [
    "Below cell will read user input text, and then make a HTTP request using POST method to the webservice endpoint deployed locally (http://127.0.0.1:5000) to classify the emotion of the user input text."
   ]
  },
  {
   "cell_type": "code",
   "execution_count": 6,
   "metadata": {},
   "outputs": [
    {
     "name": "stdout",
     "output_type": "stream",
     "text": [
      "Please input your text:  Thank you mate! you are great.\n"
     ]
    }
   ],
   "source": [
    "usertext = input(\"Please input your text:  \")"
   ]
  },
  {
   "cell_type": "code",
   "execution_count": 7,
   "metadata": {},
   "outputs": [
    {
     "name": "stdout",
     "output_type": "stream",
     "text": [
      "The classified emotion type is: gratitude_pride_relief\n"
     ]
    }
   ],
   "source": [
    "data = {'input_text': usertext}\n",
    "dbipaddr = '127.0.0.1:5000'\n",
    "\n",
    "response = requests.post('http://' + dbipaddr, data=data)\n",
    "\n",
    "parser = MyHTMLParser()\n",
    "\n",
    "if response.status_code==200:       \n",
    "    parser.feed(response.text)\n",
    "    if parser.emotion_type is not None:\n",
    "        print(f'The classified emotion type is: {parser.emotion_type}')\n",
    "    else:\n",
    "        print(f'No emotion can be classified!')"
   ]
  },
  {
   "cell_type": "code",
   "execution_count": 8,
   "metadata": {},
   "outputs": [
    {
     "name": "stderr",
     "output_type": "stream",
     "text": [
      "fatal: not a git repository (or any of the parent directories): .git\n"
     ]
    }
   ],
   "source": [
    "!git add ."
   ]
  }
 ],
 "metadata": {
  "kernelspec": {
   "display_name": "Python 3 (ipykernel)",
   "language": "python",
   "name": "python3"
  },
  "language_info": {
   "codemirror_mode": {
    "name": "ipython",
    "version": 3
   },
   "file_extension": ".py",
   "mimetype": "text/x-python",
   "name": "python",
   "nbconvert_exporter": "python",
   "pygments_lexer": "ipython3",
   "version": "3.10.9"
  }
 },
 "nbformat": 4,
 "nbformat_minor": 2
}
